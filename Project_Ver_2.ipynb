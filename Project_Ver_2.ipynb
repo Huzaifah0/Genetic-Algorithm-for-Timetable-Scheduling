{
 "cells": [
  {
   "cell_type": "markdown",
   "metadata": {
    "id": "Bmd4J0aLuzrt"
   },
   "source": [
    "AI Semester Project"
   ]
  },
  {
   "cell_type": "code",
   "execution_count": 66,
   "metadata": {
    "id": "WF5u9kLauweC"
   },
   "outputs": [],
   "source": [
    "import numpy as np\n",
    "import math\n",
    "import random\n",
    "import string\n",
    "import re\n",
    "import time\n",
    "import pandas as pd\n",
    "import matplotlib.pyplot as plt"
   ]
  },
  {
   "cell_type": "markdown",
   "metadata": {
    "id": "x6dpaBn_iRmU"
   },
   "source": [
    "DATA GENERATION"
   ]
  },
  {
   "cell_type": "code",
   "execution_count": 67,
   "metadata": {
    "id": "wNu9Qribcf9U"
   },
   "outputs": [],
   "source": [
    "def generate_sections(section_count,total_sems,isOdd):\n",
    "  start=1\n",
    "  if isOdd==True:\n",
    "    start=0\n",
    "  sections=set()\n",
    "  for i in range(start,total_sems,2):\n",
    "    for j in range(section_count):\n",
    "      section_type=random.randint(0,2)\n",
    "      strength=random.randint(30,60)\n",
    "      if section_type==2:\n",
    "        strength+=60\n",
    "      sections.add(str(i+1)+','+str(chr(j+ord('A')))+','+str(strength))\n",
    "  return sections"
   ]
  },
  {
   "cell_type": "code",
   "execution_count": 68,
   "metadata": {
    "id": "c-_4bIjgqZwO"
   },
   "outputs": [],
   "source": [
    "def assign_profs(courses,labs,sections,course_sections,n_profs,name_length=3):\n",
    "  profs_names={}\n",
    "  profs_ids={}\n",
    "  availibility={}\n",
    "  profs_assignment={}\n",
    "  letters = string.ascii_lowercase\n",
    "  name = ''.join(random.choice(letters) for i in range(name_length))\n",
    "  for i in range(n_profs):\n",
    "    while(name in profs_ids):\n",
    "      name = ''.join(random.choice(letters) for i in range(name_length))\n",
    "    name='Professor '+name\n",
    "    profs_names[i]=name\n",
    "    profs_ids[name]=i\n",
    "    availibility[i]=3\n",
    "  current_prof=0\n",
    "  for i in course_sections:\n",
    "    profs_assignment[i]=current_prof\n",
    "    availibility[current_prof]-=1\n",
    "    if availibility[current_prof]==0:\n",
    "      current_prof+=1\n",
    "\n",
    "  return profs_names,profs_ids,profs_assignment"
   ]
  },
  {
   "cell_type": "code",
   "execution_count": 69,
   "metadata": {
    "id": "qxjrffRJvQLz"
   },
   "outputs": [],
   "source": [
    "def generate_course_sections(courses,labs,sections):\n",
    "  course_sections=set()\n",
    "  years=set()\n",
    "  for i in sections:\n",
    "    idx=int(i[0])-1\n",
    "    if idx<len(courses):\n",
    "      for j in range(len(courses[idx])):\n",
    "        course_sections.add(i + \",\" + courses[idx][j])\n",
    "    if idx<len(labs):\n",
    "        course_sections.add(i + \",\" + labs[idx])\n",
    "\n",
    "  return course_sections"
   ]
  },
  {
   "cell_type": "code",
   "execution_count": 70,
   "metadata": {
    "id": "jGZ8Ov6j6M_3"
   },
   "outputs": [],
   "source": [
    "def generate_classrooms(blocks,floors,classes):\n",
    "  classrooms=set()\n",
    "  for i in range(blocks):\n",
    "    block=str(chr(i+ord('A')))\n",
    "    for j in range(floors):\n",
    "      size=60\n",
    "      for k in range(classes):\n",
    "        if(k>classes/3+1 or k==classes-1):\n",
    "          size=120\n",
    "        classrooms.add(block + \",\" + str(j+1) + str(k+1) + \",\" + str(size))\n",
    "  return classrooms"
   ]
  },
  {
   "cell_type": "code",
   "execution_count": 71,
   "metadata": {
    "id": "BIpnRH9201x7"
   },
   "outputs": [],
   "source": [
    "def index_map(arr):\n",
    "  index_map={}\n",
    "  reverse_map={}\n",
    "  current_code=0\n",
    "  for i in arr:\n",
    "    index_map[i]=current_code\n",
    "    reverse_map[current_code]=i\n",
    "    current_code+=1\n",
    "  return index_map,reverse_map"
   ]
  },
  {
   "cell_type": "code",
   "execution_count": 72,
   "metadata": {
    "id": "dwRRABm_8o9C"
   },
   "outputs": [],
   "source": [
    "def write_to_file(solution,classrooms,course_sections,profs):\n",
    "    days={\n",
    "        1:'Monday',\n",
    "        2:'Tuesday',\n",
    "        3:'Wednesday',\n",
    "        4:'Thursday',\n",
    "        5:'Friday'\n",
    "    }\n",
    "    times={\n",
    "        0:'8:30-9:50',\n",
    "        1:'10:00-11:20',\n",
    "        2:'11:30-12:50',\n",
    "        3:'01:00-02:20',\n",
    "        4:'02:30-03:50',\n",
    "        5:'04:00-05:20'\n",
    "    }\n",
    "    class_maps=index_map(classrooms)\n",
    "    cs_maps=index_map(course_sections)\n",
    "\n",
    "    time_table=list()\n",
    "    \n",
    "    class_names=[]\n",
    "    for i in class_maps[0].keys():\n",
    "        temp=re.split(',',i)\n",
    "        class_names.append(temp[0]+'-'+temp[1])\n",
    "    for i in range(5):\n",
    "        time_table.append(pd.DataFrame(index=class_names,columns=['8:30-9:50','10:00-11:20','11:30-12:50','01:00-02:20','02:30-03:50','04:00-05:20']))\n",
    "    for i in range(len(solution)):\n",
    "        classroom1=class_maps[1][solution[i][5]-1]\n",
    "        classroom2=class_maps[1][solution[i][8]-1]\n",
    "        course_section=cs_maps[1][i]\n",
    "        professor=profs[solution[i][2]]\n",
    "        day1=solution[i][3]-1\n",
    "        time1=solution[i][4]-1\n",
    "        day2=solution[i][6]-1\n",
    "        time2=solution[i][7]-1\n",
    "        temp=re.split(',',classroom2)\n",
    "        class1=temp[0]+'-'+temp[1]\n",
    "        temp=re.split(',',classroom1)\n",
    "        class2=temp[0]+'-'+temp[1]\n",
    "        \n",
    "        t1=course_section+' '+professor\n",
    "        temp=re.split(',',t1)\n",
    "        table_entry=temp[0]+temp[1]+' '+temp[3]\n",
    "        if(len(temp)>4):\n",
    "            table_entry+=' '+temp[4]\n",
    "        time_table[day1][times[time1]][class1]=table_entry\n",
    "        time_table[day2][times[time2]][class2]=table_entry\n",
    "\n",
    "    for i in range(1,6):\n",
    "        time_table[i-1].to_csv(days[i]+'.csv')  \n",
    "    return"
   ]
  },
  {
   "cell_type": "markdown",
   "metadata": {
    "id": "yyTW95QIiVQf"
   },
   "source": [
    "GENETIC ALGO"
   ]
  },
  {
   "cell_type": "code",
   "execution_count": 73,
   "metadata": {
    "id": "EaMN0t1ChL0b"
   },
   "outputs": [],
   "source": [
    "def binary_encode(chromosome,len_list):\n",
    "#new_chromosome=np.empty(chromosome.shape,dtype=np.uint64)\n",
    "    new_chromosome=[]\n",
    "    for i in range(len(chromosome)):\n",
    "        str_idx=''\n",
    "        for j in range(len(chromosome[i])):\n",
    "            length=int(math.ceil(math.log(len_list[j],2)))\n",
    "            length_str='0'+str(length+1)+'b'\n",
    "            str_idx+=(format(chromosome[i][j],length_str))\n",
    "        new_chromosome.append([str_idx])\n",
    "    return new_chromosome"
   ]
  },
  {
   "cell_type": "code",
   "execution_count": 74,
   "metadata": {
    "id": "D3kiZIN-anS5"
   },
   "outputs": [],
   "source": [
    "def crossover(c1,c2):\n",
    "  cpoint=random.randint(1,len(c1)-2)\n",
    "  child1=np.vstack((c1[:cpoint],c2[cpoint:]))\n",
    "  child2=np.vstack((c2[:cpoint],c1[cpoint:]))\n",
    "  c1=child1\n",
    "  c2=child2\n",
    "  return"
   ]
  },
  {
   "cell_type": "code",
   "execution_count": 75,
   "metadata": {
    "id": "jl354po0auYS"
   },
   "outputs": [],
   "source": [
    "def mutate(c1,rooms):\n",
    "  random_index=random.randint(0,len(c1)-1)\n",
    "  total_days=5\n",
    "  time_slots=6\n",
    "  cs=random_index\n",
    "  isLab=True if c1[cs][0]==1 else False\n",
    "  if isLab:\n",
    "    c1[cs][3]=random.randint(1,total_days)\n",
    "    c1[cs][4]=random.randint(1,time_slots-1)\n",
    "    c1[cs][5]=random.randint(1,rooms)\n",
    "    c1[cs][6]=c1[cs][3]\n",
    "    c1[cs][7]=c1[cs][4]+1\n",
    "    c1[cs][8]=c1[cs][5]\n",
    "  else:\n",
    "    c1[cs][3]=random.randint(1,total_days)\n",
    "    c1[cs][4]=random.randint(1,time_slots)\n",
    "    c1[cs][5]=random.randint(1,rooms)\n",
    "    c1[cs][6]=random.randint(1,total_days)\n",
    "    c1[cs][7]=random.randint(1,time_slots)\n",
    "    c1[cs][8]=random.randint(1,rooms)\n",
    "  return"
   ]
  },
  {
   "cell_type": "code",
   "execution_count": 76,
   "metadata": {},
   "outputs": [],
   "source": [
    "def mutate_advance(c1,rooms,conflict_info):\n",
    "  index=conflict_info[0]\n",
    "  total_days=5\n",
    "  time_slots=6\n",
    "  cs=index\n",
    "  isLab=True if c1[cs][0]==1 else False\n",
    "  if isLab:\n",
    "    c1[cs][3]=random.randint(1,total_days)\n",
    "    c1[cs][4]=random.randint(1,time_slots-1)\n",
    "    c1[cs][5]=random.randint(1,rooms)\n",
    "    c1[cs][6]=c1[cs][3]\n",
    "    c1[cs][7]=c1[cs][4]+1\n",
    "    c1[cs][8]=c1[cs][5]\n",
    "  else:\n",
    "    if conflict_info[1]==1:\n",
    "      c1[cs][3]=random.randint(1,total_days)\n",
    "      c1[cs][4]=random.randint(1,time_slots)\n",
    "      c1[cs][5]=random.randint(1,rooms)\n",
    "    else:\n",
    "      c1[cs][6]=random.randint(1,total_days)\n",
    "      c1[cs][7]=random.randint(1,time_slots)\n",
    "      c1[cs][8]=random.randint(1,rooms)\n",
    "  return c1"
   ]
  },
  {
   "cell_type": "code",
   "execution_count": 87,
   "metadata": {
    "id": "h3WPumSCiYcf"
   },
   "outputs": [],
   "source": [
    "def evaluate_population(sections,course_sections,profs,classrooms,population,check_soft=False):\n",
    "  soft_factor=0.001\n",
    "  conflicts=np.zeros(len(population),dtype=float)\n",
    "  conflict_info=np.zeros((len(population),2),dtype=int)\n",
    "  for c in range(len(population)):\n",
    "    i=population[c]\n",
    "    room_conflicts=set()\n",
    "    prof_conflicts=set()\n",
    "    section_conflicts=set()\n",
    "\n",
    "    professor_teaching_days={}\n",
    "    professor_traverse_days={}\n",
    "    section_days={}\n",
    "\n",
    "    for j in range(len(i)):\n",
    "      tokenized_cs=re.split(',',course_sections[1][j])\n",
    "      section_id=tokenized_cs[0]+tokenized_cs[1]\n",
    "\n",
    "      #TS1 checks\n",
    "      section=section_id+','+str(i[j][3])+','+str(i[j][4])\n",
    "      room=str(i[j][5])+','+str(i[j][3])+','+str(i[j][4])\n",
    "      prof=str(i[j][2])+','+str(i[j][3])+','+str(i[j][4])\n",
    "      if room not in room_conflicts:\n",
    "        room_conflicts.add(room)\n",
    "      else:\n",
    "        conflict_info[c][0]=j\n",
    "        conflict_info[c][1]=1\n",
    "        conflicts[c]+=1\n",
    "      if prof not in prof_conflicts:\n",
    "        prof_conflicts.add(prof)\n",
    "      else:\n",
    "        conflict_info[c][0]=j\n",
    "        conflict_info[c][1]=1\n",
    "        conflicts[c]+=1\n",
    "      if section not in section_conflicts:\n",
    "        section_conflicts.add(section)\n",
    "      else:\n",
    "        conflict_info[c][0]=j\n",
    "        conflict_info[c][1]=1\n",
    "        conflicts[c]+=1\n",
    "\n",
    "      #TS2 Checks\n",
    "      section=section_id+','+str(i[j][6])+','+str(i[j][7])\n",
    "      room=str(i[j][8])+','+str(i[j][6])+','+str(i[j][7])\n",
    "      prof=str(i[j][2])+','+str(i[j][6])+','+str(i[j][7])\n",
    "      if room not in room_conflicts:\n",
    "        room_conflicts.add(room)\n",
    "      else:\n",
    "        conflict_info[c][0]=j\n",
    "        conflict_info[c][1]=2\n",
    "        conflicts[c]+=1\n",
    "      if prof not in prof_conflicts:\n",
    "        prof_conflicts.add(prof)\n",
    "      else:\n",
    "        conflict_info[c][0]=j\n",
    "        conflict_info[c][1]=2\n",
    "        conflicts[c]+=1\n",
    "      if section not in section_conflicts:\n",
    "        section_conflicts.add(section)\n",
    "      else:\n",
    "        conflict_info[c][0]=j\n",
    "        conflict_info[c][1]=2\n",
    "        conflicts[c]+=1\n",
    "\n",
    "      #check if room sizes are good\n",
    "\n",
    "      room1=classrooms[1][i[j][5]-1]\n",
    "      room2=classrooms[1][i[j][8]-1]\n",
    "\n",
    "      token1=re.split(',',room1)\n",
    "      token2=re.split(',',room2)\n",
    "\n",
    "      if int(token1[-1])<int(i[j][1]):\n",
    "        conflict_info[c][0]=j\n",
    "        conflict_info[c][1]=1\n",
    "        conflicts[c]+=1\n",
    "      if int(token2[-1])<int(i[j][1]):\n",
    "        conflict_info[c][0]=j\n",
    "        conflict_info[c][1]=2\n",
    "        conflicts[c]+=1\n",
    "\n",
    "\n",
    "      #check if lectures on same or adjacent days\n",
    "      #code this into the chromosome generation/crossover/mutation seems no need\n",
    "      if abs(i[j][3]-i[j][6])<2 and i[j][0]!=1:\n",
    "        conflict_info[c][0]=j\n",
    "        conflict_info[c][1]=random.randint(1,2)\n",
    "        conflicts[c]+=1\n",
    "\n",
    "      #soft constraints\n",
    "      if check_soft==True:\n",
    "\n",
    "        #checking for same classroom in whole week\n",
    "        if i[j][5]!=i[j][8]:\n",
    "          conflict_info[c][0]=j\n",
    "          conflict_info[c][1]=random.randint(1,2)\n",
    "          conflicts[c]+=soft_factor\n",
    "\n",
    "        #checking morning and afternoon sessions\n",
    "        if i[j][0]==1:\n",
    "          if i[j][4]<5:\n",
    "            conflict_info[c][0]=j\n",
    "            conflict_info[c][1]=random.randint(1,2)\n",
    "            conflicts[c]+=soft_factor\n",
    "        else:\n",
    "          if i[j][7]>4:\n",
    "            conflict_info[c][0]=j\n",
    "            conflict_info[c][1]=random.randint(1,2)\n",
    "            conflicts[c]+=soft_factor\n",
    "          if i[j][4]>4:\n",
    "            conflicts[c]+=soft_factor\n",
    "\n",
    "        #check for floor and block gap bw classes\n",
    "        #manhattan distance between block/floors of different section,day pairs times soft factor\n",
    "\n",
    "        #check for uninterrupted teaching\n",
    "        #absolute distance between professor,day combos times soft factor\n",
    "\n",
    "        section_traverse_key=section_id+','+str(i[j][3])\n",
    "        professor_traverse_key=str(i[j][2])+','+str(i[j][3])\n",
    "\n",
    "        if section_traverse_key not in section_days.keys():\n",
    "          section_days[section_traverse_key]=[]\n",
    "        if professor_traverse_key not in professor_traverse_days.keys():\n",
    "          professor_traverse_days[professor_traverse_key]=[]\n",
    "          professor_teaching_days[professor_traverse_key]=[]\n",
    "\n",
    "        section_days[section_traverse_key]+=[[room1,i[j][4]]]\n",
    "        professor_traverse_days[professor_traverse_key]+=[[room1,i[j][4]]]\n",
    "        professor_teaching_days[professor_traverse_key]+=[[course_sections[1][j],i[j][4]]]\n",
    "\n",
    "        section_traverse_key=section_id+','+str(i[j][6])\n",
    "        professor_traverse_key=str(i[j][2])+','+str(i[j][6])\n",
    "\n",
    "        if section_traverse_key not in section_days.keys():\n",
    "          section_days[section_traverse_key]=[]\n",
    "        if professor_traverse_key not in professor_traverse_days.keys():\n",
    "          professor_teaching_days[professor_traverse_key]=[]\n",
    "          professor_traverse_days[professor_traverse_key]=[]\n",
    "\n",
    "        section_days[section_traverse_key]+=[[room2,i[j][7]]]\n",
    "        professor_traverse_days[professor_traverse_key]+=[[room2,i[j][7]]]\n",
    "        professor_teaching_days[professor_traverse_key]+=[[course_sections[1][j],i[j][7]]]\n",
    "      #loop end\n",
    "      if check_soft==True:\n",
    "        x_coords=np.zeros(6)\n",
    "        y_coords=np.zeros(6)\n",
    "        manhattan_distance=0\n",
    "        for i1 in section_days.keys():\n",
    "          for j1 in section_days[i1]:\n",
    "            room=re.split(',',j1[0])\n",
    "            x_coords[j1[1]-1]=ord(room[0])-ord('A')\n",
    "            y_coords[j1[1]-1]=int(room[1][0])\n",
    "        for i1 in(range(5)):\n",
    "          if x_coords[i1]==0 or x_coords[i1+1]:\n",
    "            continue\n",
    "          manhattan_distance+=abs(x_coords[i1]-x_coords[i1+1])+abs(y_coords[i1]-y_coords[i1+1])\n",
    "\n",
    "\n",
    "        x_coords=np.zeros(6)\n",
    "        y_coords=np.zeros(6)\n",
    "        for i2 in professor_traverse_days.keys():\n",
    "          for j2 in professor_traverse_days[i2]:\n",
    "            room=re.split(',',j2[0])\n",
    "            x_coords[j2[1]-1]=ord(room[0])-ord('A')\n",
    "            y_coords[j2[1]-1]=int(room[1][0])\n",
    "        for i2 in(range(5)):\n",
    "          if x_coords[i2]==0 or x_coords[i2+1]:\n",
    "            continue\n",
    "          manhattan_distance+=abs(x_coords[i2]-x_coords[i2+1])+abs(y_coords[i2]-y_coords[i2+1])\n",
    "        conflict_info[c][0]=random.randint(0,len(i)-1)\n",
    "        conflict_info[c][1]=random.randint(1,2)\n",
    "        conflicts[c]-=manhattan_distance*(soft_factor/5)\n",
    "\n",
    "        min_idx=-1\n",
    "        max_idx=6\n",
    "        isTeaching=np.zeros(6,bool)\n",
    "        for i3 in professor_traverse_days.keys():\n",
    "          for j3 in professor_teaching_days[i3]:\n",
    "            course=re.split(',',j3[0])\n",
    "            isTeaching[j3[1]-1]=True\n",
    "            if j3[1]-1<min_idx:\n",
    "              min_idx=j3[1]\n",
    "            if j3[1]+1>max_idx:\n",
    "              max_idx=j3[1]\n",
    "\n",
    "        for i4 in range(min_idx,max_idx):\n",
    "          if not isTeaching[i4]:\n",
    "            conflict_info[c][0]=random.randint(0,len(i)-1)\n",
    "            conflict_info[c][1]=random.randint(1,2)\n",
    "            conflicts[c]+=soft_factor/5\n",
    "\n",
    "\n",
    "    conflicts[c]=-conflicts[c]\n",
    "  return conflicts,conflict_info"
   ]
  },
  {
   "cell_type": "code",
   "execution_count": 78,
   "metadata": {
    "id": "ZVziFcAShHc8"
   },
   "outputs": [],
   "source": [
    "def generate_chromosomes(prof_map,cs_map,rooms):\n",
    "  #mychromosome=(isLab,section_strength,professor,day1,time1,room1,day2,time2,room2)\n",
    "  total_days=5\n",
    "  time_slots=6\n",
    "  chromosome=np.zeros((len(prof_map),9),dtype=np.int16)\n",
    "\n",
    "  for i in prof_map.keys():\n",
    "    tokenized_course_sections=re.split(',',i)\n",
    "    cs=cs_map[i]\n",
    "    isLab=len(tokenized_course_sections)==5\n",
    "    chromosome[cs][1]=int(tokenized_course_sections[2])\n",
    "    chromosome[cs][2]=prof_map[i]\n",
    "    if isLab:\n",
    "      chromosome[cs][0]=1\n",
    "      chromosome[cs][3]=random.randint(1,total_days)\n",
    "      chromosome[cs][4]=random.randint(1,time_slots-1)\n",
    "      chromosome[cs][5]=random.randint(1,len(rooms))\n",
    "      chromosome[cs][6]=chromosome[cs][3]\n",
    "      chromosome[cs][7]=chromosome[cs][4]+1\n",
    "      chromosome[cs][8]=chromosome[cs][5]\n",
    "    else:\n",
    "      chromosome[cs][0]=0\n",
    "      chromosome[cs][3]=random.randint(1,total_days)\n",
    "      chromosome[cs][4]=random.randint(1,time_slots)\n",
    "      chromosome[cs][5]=random.randint(1,len(rooms))\n",
    "      chromosome[cs][6]=random.randint(1,total_days)\n",
    "      chromosome[cs][7]=random.randint(1,time_slots)\n",
    "      chromosome[cs][8]=random.randint(1,len(rooms))\n",
    "  return chromosome"
   ]
  },
  {
   "cell_type": "code",
   "execution_count": 79,
   "metadata": {
    "id": "64HLw-9YhcSM"
   },
   "outputs": [],
   "source": [
    "def run_genetic_algo(sections,course_sections,profs,classrooms,check_soft=False,n_pop=6,r_mut=0.5,r_cross=0.6,n_iters=40000,soft_cap=5000):\n",
    "  course_mapping=index_map(course_sections)\n",
    "  room_mapping=index_map(classrooms)\n",
    "  pop_list=list()\n",
    "  zero_found=False\n",
    "  for i in range(n_pop):\n",
    "    pop_list.append(generate_chromosomes(profs[2],course_mapping[0],classrooms))\n",
    "  population=np.array(pop_list)\n",
    "\n",
    "  final_iter=n_iters\n",
    "\n",
    "  soft_iters=0\n",
    "\n",
    "  memo_scores=np.zeros(n_iters)\n",
    "  for i in range(n_iters):\n",
    "    scores,c_info=evaluate_population(sections,course_mapping,profs,room_mapping,population,zero_found and check_soft)\n",
    "    p=scores.argsort()[::-1]\n",
    "    population=population[p]\n",
    "    scores=scores[p]\n",
    "    c_info=c_info[p]\n",
    "    best=population[0].copy()\n",
    "    second=population[1].copy()\n",
    "\n",
    "    memo_scores[i]=scores[0]\n",
    "      \n",
    "    for j in range(0,n_pop-2,2):\n",
    "      if random.uniform(0,1)<r_cross:\n",
    "        crossover(population[j],population[j+1])\n",
    "      if random.uniform(0,1)<r_mut:\n",
    "        mutate_advance(population[j],len(classrooms),c_info[j])\n",
    "      if random.uniform(0,1)<r_mut:\n",
    "        mutate_advance(population[j+1],len(classrooms),c_info[j+1])\n",
    "\n",
    "    population[-1]=best\n",
    "    population[-2]=second\n",
    "    if(scores[0]==0 and not zero_found):\n",
    "      if(check_soft==False):\n",
    "        final_iter=i\n",
    "        return population,scores,final_iter,soft_iters,memo_scores\n",
    "      zero_found=True\n",
    "    if zero_found==True:\n",
    "      soft_iters+=1\n",
    "      if soft_iters>=soft_cap:\n",
    "        final_iter=i\n",
    "        return population,scores,final_iter,soft_iters,memo_scores\n",
    "    if i%50==0:\n",
    "        print(\"Iteration: \", i ,\" Scores: \", scores)\n",
    "\n",
    "  return population,scores,final_iter,soft_iters,memo_scores"
   ]
  },
  {
   "cell_type": "code",
   "execution_count": 80,
   "metadata": {
    "id": "lanL84C7_3vj"
   },
   "outputs": [],
   "source": [
    "#Generating data\n",
    "courses=[['PF','Calculus','Physics','ECCL'],\n",
    "         ['OOP','DLD','Differential Equations','CPS'],\n",
    "         ['Data structures','COAL','Discrete','Linear Algebra'],\n",
    "         ['DB','OS','Algo','Stats'],\n",
    "         ['C-Net','SE','Automata','Statisical Modelling'],\n",
    "         ['AI','DIP','Numerical Computing','PDC'],\n",
    "         ['Info Sec','PPIT'],\n",
    "         ['DevOps','Computer Vision']]\n",
    "labs=['PF,Lab','OOP,Lab','DS,Lab','DB,Lab','CNet,Lab','AI,Lab']\n",
    "sections=generate_sections(1,4,False)\n",
    "course_sections=generate_course_sections(courses,labs,sections)\n",
    "profs=assign_profs(courses,labs,sections,course_sections,math.ceil(len(course_sections)/3))\n",
    "classrooms=generate_classrooms(1,1,20)"
   ]
  },
  {
   "cell_type": "code",
   "execution_count": 81,
   "metadata": {
    "colab": {
     "base_uri": "https://localhost:8080/"
    },
    "id": "TAokTbyTanli",
    "outputId": "8a449b74-1aad-4581-a82d-359e20cf3e27"
   },
   "outputs": [
    {
     "name": "stdout",
     "output_type": "stream",
     "text": [
      "10\n"
     ]
    }
   ],
   "source": [
    "print(len(course_sections))"
   ]
  },
  {
   "cell_type": "code",
   "execution_count": 88,
   "metadata": {
    "colab": {
     "base_uri": "https://localhost:8080/"
    },
    "id": "DksJHXpnfDBj",
    "outputId": "8dd751a2-e0fe-435d-da6a-6bd46e354fb4",
    "scrolled": true
   },
   "outputs": [
    {
     "name": "stdout",
     "output_type": "stream",
     "text": [
      "Iteration:  0  Scores:  [-12. -16. -16. -21.]\n",
      "Iteration:  50  Scores:  [-0.0152 -0.0152 -2.0148 -2.0152]\n",
      "Iteration:  100  Scores:  [-0.0112 -0.0112 -1.0122 -2.0122]\n",
      "Iteration:  150  Scores:  [-0.0078 -0.0078 -1.0078 -2.0088]\n",
      "Iteration:  200  Scores:  [-0.0066 -0.0074 -1.0092 -2.0076]\n",
      "Iteration:  250  Scores:  [-0.0064 -0.0064 -0.0064 -2.0076]\n",
      "Iteration:  300  Scores:  [-0.0064 -0.0064 -2.0074 -2.0074]\n",
      "Iteration:  350  Scores:  [-0.0054 -0.0064 -3.0076 -3.0082]\n",
      "Iteration:  400  Scores:  [-0.0054 -0.0054 -0.0064 -1.0074]\n",
      "Iteration:  450  Scores:  [-0.0054 -0.0054 -1.0076 -3.0072]\n",
      "Iteration:  500  Scores:  [-0.0054 -0.0054 -1.0068 -2.0054]\n",
      "Iteration:  550  Scores:  [-0.0054 -0.0054 -0.0064 -2.0054]\n",
      "Iteration:  600  Scores:  [-0.0044 -0.0054 -1.0058 -3.0064]\n",
      "Iteration:  650  Scores:  [-0.0044 -0.0044 -0.0066 -1.0054]\n",
      "Iteration:  700  Scores:  [-0.0044 -0.0044 -2.0044 -2.0064]\n",
      "Iteration:  750  Scores:  [-0.0044 -0.0044 -0.0054 -1.0054]\n",
      "Iteration:  800  Scores:  [-0.0042 -0.0044 -2.0052 -2.0064]\n",
      "Iteration:  850  Scores:  [-0.0042 -0.0042 -0.0052 -4.0064]\n",
      "Iteration:  900  Scores:  [-0.0042 -0.0042 -0.0064 -1.0044]\n",
      "Iteration:  950  Scores:  [-0.0042 -0.0042 -0.0042 -4.0042]\n",
      "Iteration:  1000  Scores:  [-0.0042 -0.0042 -0.0042 -0.0042]\n",
      "Iteration:  1050  Scores:  [-0.0032 -0.0042 -0.0052 -1.0052]\n",
      "Iteration:  1100  Scores:  [-0.0032 -0.0032 -0.0042 -1.005 ]\n",
      "Iteration:  1150  Scores:  [-3.2000e-03 -3.2000e-03 -4.2000e-03 -4.0032e+00]\n",
      "Iteration:  1200  Scores:  [-3.2000e-03 -3.2000e-03 -1.0056e+00 -4.0050e+00]\n",
      "Iteration:  1250  Scores:  [-0.0032 -0.0032 -1.0042 -2.0042]\n",
      "Iteration:  1300  Scores:  [-0.0024 -0.0032 -0.0034 -2.0044]\n",
      "Iteration:  1350  Scores:  [-0.0024 -0.0024 -0.0034 -2.0044]\n",
      "Iteration:  1400  Scores:  [-0.0024 -0.0024 -1.0044 -2.0034]\n",
      "Iteration:  1450  Scores:  [-0.0024 -0.0024 -1.0038 -2.004 ]\n",
      "Iteration:  1500  Scores:  [-0.0024 -0.0024 -0.0034 -2.0034]\n",
      "Iteration:  1550  Scores:  [-0.0024 -0.0024 -1.0034 -1.0044]\n",
      "Iteration:  1600  Scores:  [-0.0024 -0.0024 -0.0034 -1.0044]\n",
      "Iteration:  1650  Scores:  [-0.0024 -0.0024 -1.0034 -2.0034]\n",
      "Iteration:  1700  Scores:  [-0.0024 -0.0024 -1.0044 -2.0024]\n",
      "Iteration:  1750  Scores:  [-0.0024 -0.0024 -1.0034 -1.0038]\n",
      "Iteration:  1800  Scores:  [-0.0024 -0.0024 -0.004  -1.0044]\n",
      "Iteration:  1850  Scores:  [-0.0024 -0.0024 -0.0024 -0.0024]\n",
      "Iteration:  1900  Scores:  [-0.0024 -0.0024 -1.0034 -1.0034]\n",
      "Iteration:  1950  Scores:  [-2.4000e-03 -2.4000e-03 -3.2000e-03 -3.0044e+00]\n",
      "Iteration:  2000  Scores:  [-0.0024 -0.0024 -2.0024 -2.0044]\n",
      "Iteration:  2050  Scores:  [-0.0024 -0.0024 -0.0034 -2.0034]\n",
      "Iteration:  2100  Scores:  [-0.0024 -0.0024 -1.0034 -1.0044]\n",
      "Iteration:  2150  Scores:  [-0.0024 -0.0024 -1.0034 -2.0044]\n",
      "Iteration:  2200  Scores:  [-2.4000e-03 -2.4000e-03 -3.4000e-03 -4.0034e+00]\n",
      "Iteration:  2250  Scores:  [-0.0024 -0.0024 -0.0034 -1.0044]\n",
      "Iteration:  2300  Scores:  [-0.0024 -0.0024 -0.0034 -1.0042]\n",
      "Iteration:  2350  Scores:  [-0.0024 -0.0024 -1.0038 -1.0044]\n",
      "Iteration:  2400  Scores:  [-0.0024 -0.0024 -0.0044 -1.0044]\n",
      "Iteration:  2450  Scores:  [-0.0024 -0.0024 -2.0034 -2.0034]\n",
      "Iteration:  2500  Scores:  [-2.4000e-03 -2.4000e-03 -1.0044e+00 -3.0042e+00]\n",
      "Iteration:  2550  Scores:  [-0.0024 -0.0024 -0.0042 -1.0034]\n",
      "Iteration:  2600  Scores:  [-0.0024 -0.0024 -0.0038 -2.0044]\n",
      "Iteration:  2650  Scores:  [-2.4000e-03 -2.4000e-03 -3.8000e-03 -3.0044e+00]\n",
      "Iteration:  2700  Scores:  [-0.0024 -0.0024 -0.0034 -2.0034]\n",
      "Iteration:  2750  Scores:  [-0.0024 -0.0024 -2.0034 -2.0038]\n",
      "Iteration:  2800  Scores:  [-2.4000e-03 -2.4000e-03 -2.0044e+00 -4.0034e+00]\n",
      "Iteration:  2850  Scores:  [-2.4000e-03 -2.4000e-03 -1.0036e+00 -3.0042e+00]\n",
      "Iteration:  2900  Scores:  [-0.0024 -0.0024 -1.0038 -2.0046]\n",
      "Iteration:  2950  Scores:  [-0.0024 -0.0024 -0.0034 -0.0044]\n",
      "Iteration:  3000  Scores:  [-2.4000e-03 -2.4000e-03 -2.0038e+00 -3.0034e+00]\n",
      "Time taken for solution:  28.8077175617218  seconds.\n",
      "Average runtime is:  28.8077175617218  seconds.\n"
     ]
    }
   ],
   "source": [
    "#run the genetic algo\n",
    "total_time=0\n",
    "n_runs=1\n",
    "solution=None\n",
    "sol1=None\n",
    "for i in range(n_runs):\n",
    "  start_time = time.time()\n",
    "  solution=run_genetic_algo(sections,course_sections,profs,classrooms,True,4,1,0.1,60000,3000)\n",
    "  total_time+=(time.time() - start_time)\n",
    "  print(\"Time taken for solution: \", time.time() - start_time, \" seconds.\")\n",
    "  len_list=(2,120,math.ceil(len(profs[2])/3),5,6,len(classrooms),5,6,len(classrooms))\n",
    "  sol1=binary_encode(solution[0][0],len_list)\n",
    "  \n",
    "    \n",
    "average=total_time/n_runs\n",
    "print(\"Average runtime is: \",average, \" seconds.\")"
   ]
  },
  {
   "cell_type": "code",
   "execution_count": 85,
   "metadata": {
    "id": "UpPyYNIf3nsS"
   },
   "outputs": [],
   "source": [
    "write_to_file(solution[0][0],classrooms,course_sections,profs[0])"
   ]
  },
  {
   "cell_type": "code",
   "execution_count": 89,
   "metadata": {},
   "outputs": [
    {
     "data": {
      "text/plain": [
       "[['00011100010000001011001000101000011010001'],\n",
       " ['00011100110000011001001001100010001010011'],\n",
       " ['00011100010000101000100110000100100001100'],\n",
       " ['01011100010010011010101000100110110010001'],\n",
       " ['00011100110010001010001000101010001010001'],\n",
       " ['01011100110010100010100010101000110000101'],\n",
       " ['00011100110100011000101000100010011010001'],\n",
       " ['00011100110100100001100110000010010001100'],\n",
       " ['00011100010100101001100011000010001000110'],\n",
       " ['00011100010110100001000010000100001000100']]"
      ]
     },
     "execution_count": 89,
     "metadata": {},
     "output_type": "execute_result"
    }
   ],
   "source": [
    "sol1"
   ]
  },
  {
   "cell_type": "code",
   "execution_count": null,
   "metadata": {},
   "outputs": [],
   "source": [
    "x=range(0,len(solution[-1][:solution[2]-solution[3]]))\n",
    "y=solution[-1][:solution[2]-solution[3]]\n",
    "plt.plot(x,y)\n",
    "plt.gca().invert_yaxis()\n",
    "plt.xlabel(\"Generation number\")\n",
    "plt.ylabel(\"Fitness\")"
   ]
  }
 ],
 "metadata": {
  "colab": {
   "provenance": []
  },
  "kernelspec": {
   "display_name": "Python 3 (ipykernel)",
   "language": "python",
   "name": "python3"
  },
  "language_info": {
   "codemirror_mode": {
    "name": "ipython",
    "version": 3
   },
   "file_extension": ".py",
   "mimetype": "text/x-python",
   "name": "python",
   "nbconvert_exporter": "python",
   "pygments_lexer": "ipython3",
   "version": "3.11.7"
  }
 },
 "nbformat": 4,
 "nbformat_minor": 4
}
